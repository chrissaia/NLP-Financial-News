# Exploratory Analysis

import pandas as pd
import matplotlib.pyplot as plt

# Load the dataset
data = pd.read_csv('../data/data.csv')

# Distribution of sentiments
data['sentiment'].value_counts().plot(kind='bar')
plt.title('Sentiment Distribution')
plt.show()

# Display sample headlines
data.sample(5)
